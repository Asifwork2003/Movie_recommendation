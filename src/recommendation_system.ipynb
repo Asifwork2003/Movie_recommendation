{
 "cells": [
  {
   "cell_type": "markdown",
   "metadata": {},
   "source": [
    "# Movie Recommendation System Using KNN\n",
    "\n",
    "This notebook implements a movie recommendation system using **K-Nearest Neighbors (KNN)** based on user ratings and movie features. The recommendation system leverages **collaborative filtering** to suggest movies to users based on their preferences and ratings.\n",
    "\n",
    "## Overview\n",
    "The recommendation system follows these steps:\n",
    "1. **Data Loading**: Load the `ratings.csv` and `movies_rc.csv` datasets which contain movie ratings from users and movie details, respectively.\n",
    "2. **Data Preprocessing**: Clean the data and explore the dataset to get useful insights.\n",
    "3. **User-Item Matrix Creation**: Create a sparse user-item matrix where each row represents a movie and each column represents a user.\n",
    "4. **Similarity Calculation**: Use K-Nearest Neighbors (KNN) with cosine similarity to find similar movies based on user ratings.\n",
    "5. **Movie Recommendations**: Recommend movies to users based on their highest-rated movie, by finding the top `k` similar movies.\n",
    "\n",
    "## Key Concepts:\n",
    "- **Collaborative Filtering**: A method of recommendation based on user-item interactions, where the system recommends items based on the preferences of similar users.\n",
    "- **Cosine Similarity**: A metric used to measure the similarity between two vectors by calculating the cosine of the angle between them.\n",
    "- **KNN**: An algorithm that finds the k-nearest neighbors to a given point (movie) based on some distance metric (cosine similarity in this case).\n",
    "\n",
    "### Dataset Information:\n",
    "- **ratings.csv**: Contains user ratings for movies with columns `userId`, `movieId`, and `rating`.\n",
    "- **movies_rc.csv**: Contains movie details with columns `movieId` and `title`.\n",
    "\n",
    "\n",
    "\n"
   ]
  },
  {
   "cell_type": "code",
   "execution_count": 3,
   "metadata": {},
   "outputs": [
    {
     "ename": "ModuleNotFoundError",
     "evalue": "No module named 'numpy'",
     "output_type": "error",
     "traceback": [
      "\u001b[1;31m---------------------------------------------------------------------------\u001b[0m",
      "\u001b[1;31mModuleNotFoundError\u001b[0m                       Traceback (most recent call last)",
      "Cell \u001b[1;32mIn[3], line 2\u001b[0m\n\u001b[0;32m      1\u001b[0m \u001b[38;5;66;03m# Importing necessary libraries for data processing, model creation, and visualization\u001b[39;00m\n\u001b[1;32m----> 2\u001b[0m \u001b[38;5;28;01mimport\u001b[39;00m \u001b[38;5;21;01mnumpy\u001b[39;00m \u001b[38;5;28;01mas\u001b[39;00m \u001b[38;5;21;01mnp\u001b[39;00m\n\u001b[0;32m      3\u001b[0m \u001b[38;5;28;01mimport\u001b[39;00m \u001b[38;5;21;01mpandas\u001b[39;00m \u001b[38;5;28;01mas\u001b[39;00m \u001b[38;5;21;01mpd\u001b[39;00m\n\u001b[0;32m      4\u001b[0m \u001b[38;5;28;01mimport\u001b[39;00m \u001b[38;5;21;01mmatplotlib\u001b[39;00m\u001b[38;5;21;01m.\u001b[39;00m\u001b[38;5;21;01mpyplot\u001b[39;00m \u001b[38;5;28;01mas\u001b[39;00m \u001b[38;5;21;01mplt\u001b[39;00m\n",
      "\u001b[1;31mModuleNotFoundError\u001b[0m: No module named 'numpy'"
     ]
    }
   ],
   "source": [
    "# Importing necessary libraries for data processing, model creation, and visualization\n",
    "import numpy as np\n",
    "import pandas as pd\n",
    "import matplotlib.pyplot as plt\n",
    "import seaborn as sns\n",
    "import sklearn\n",
    "import warnings\n",
    "\n",
    "# Suppressing future warnings for cleaner output\n",
    "warnings.simplefilter(action = 'ignore', category = FutureWarning)\n"
   ]
  },
  {
   "cell_type": "code",
   "execution_count": null,
   "metadata": {},
   "outputs": [],
   "source": []
  }
 ],
 "metadata": {
  "kernelspec": {
   "display_name": "Python 3",
   "language": "python",
   "name": "python3"
  },
  "language_info": {
   "codemirror_mode": {
    "name": "ipython",
    "version": 3
   },
   "file_extension": ".py",
   "mimetype": "text/x-python",
   "name": "python",
   "nbconvert_exporter": "python",
   "pygments_lexer": "ipython3",
   "version": "3.12.0"
  }
 },
 "nbformat": 4,
 "nbformat_minor": 2
}

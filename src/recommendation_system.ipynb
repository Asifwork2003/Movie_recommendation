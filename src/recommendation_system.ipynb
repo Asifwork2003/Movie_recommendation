{
 "cells": [
  {
   "cell_type": "markdown",
   "metadata": {},
   "source": [
    "# Movie Recommendation System Using KNN\n",
    "\n",
    "This notebook implements a movie recommendation system using **K-Nearest Neighbors (KNN)** based on user ratings and movie features. The recommendation system leverages **collaborative filtering** to suggest movies to users based on their preferences and ratings.\n",
    "\n",
    "## Overview\n",
    "The recommendation system follows these steps:\n",
    "1. **Data Loading**: Load the `ratings.csv` and `movies_rc.csv` datasets which contain movie ratings from users and movie details, respectively.\n",
    "2. **Data Preprocessing**: Clean the data and explore the dataset to get useful insights.\n",
    "3. **User-Item Matrix Creation**: Create a sparse user-item matrix where each row represents a movie and each column represents a user.\n",
    "4. **Similarity Calculation**: Use K-Nearest Neighbors (KNN) with cosine similarity to find similar movies based on user ratings.\n",
    "5. **Movie Recommendations**: Recommend movies to users based on their highest-rated movie, by finding the top `k` similar movies.\n",
    "\n",
    "## Key Concepts:\n",
    "- **Collaborative Filtering**: A method of recommendation based on user-item interactions, where the system recommends items based on the preferences of similar users.\n",
    "- **Cosine Similarity**: A metric used to measure the similarity between two vectors by calculating the cosine of the angle between them.\n",
    "- **KNN**: An algorithm that finds the k-nearest neighbors to a given point (movie) based on some distance metric (cosine similarity in this case).\n",
    "\n",
    "### Dataset Information:\n",
    "- **ratings.csv**: Contains user ratings for movies with columns `userId`, `movieId`, and `rating`.\n",
    "- **movies_rc.csv**: Contains movie details with columns `movieId` and `title`.\n",
    "\n",
    "\n",
    "\n"
   ]
  },
  {
   "cell_type": "code",
   "execution_count": 41,
   "metadata": {},
   "outputs": [],
   "source": [
    "# Importing necessary libraries for data processing, model creation, and visualization\n",
    "import numpy as np\n",
    "import pandas as pd\n",
    "import matplotlib.pyplot as plt\n",
    "import seaborn as sns\n",
    "import sklearn\n",
    "import warnings\n",
    "\n",
    "# Suppressing future warnings for cleaner output\n",
    "warnings.simplefilter(action = 'ignore', category = FutureWarning)\n"
   ]
  },
  {
   "cell_type": "code",
   "execution_count": 42,
   "metadata": {},
   "outputs": [
    {
     "data": {
      "text/html": [
       "<div>\n",
       "<style scoped>\n",
       "    .dataframe tbody tr th:only-of-type {\n",
       "        vertical-align: middle;\n",
       "    }\n",
       "\n",
       "    .dataframe tbody tr th {\n",
       "        vertical-align: top;\n",
       "    }\n",
       "\n",
       "    .dataframe thead th {\n",
       "        text-align: right;\n",
       "    }\n",
       "</style>\n",
       "<table border=\"1\" class=\"dataframe\">\n",
       "  <thead>\n",
       "    <tr style=\"text-align: right;\">\n",
       "      <th></th>\n",
       "      <th>userId</th>\n",
       "      <th>movieId</th>\n",
       "      <th>rating</th>\n",
       "      <th>timestamp</th>\n",
       "    </tr>\n",
       "  </thead>\n",
       "  <tbody>\n",
       "    <tr>\n",
       "      <th>0</th>\n",
       "      <td>1</td>\n",
       "      <td>1</td>\n",
       "      <td>4.0</td>\n",
       "      <td>964982703</td>\n",
       "    </tr>\n",
       "    <tr>\n",
       "      <th>1</th>\n",
       "      <td>1</td>\n",
       "      <td>3</td>\n",
       "      <td>4.0</td>\n",
       "      <td>964981247</td>\n",
       "    </tr>\n",
       "    <tr>\n",
       "      <th>2</th>\n",
       "      <td>1</td>\n",
       "      <td>6</td>\n",
       "      <td>4.0</td>\n",
       "      <td>964982224</td>\n",
       "    </tr>\n",
       "    <tr>\n",
       "      <th>3</th>\n",
       "      <td>1</td>\n",
       "      <td>47</td>\n",
       "      <td>5.0</td>\n",
       "      <td>964983815</td>\n",
       "    </tr>\n",
       "    <tr>\n",
       "      <th>4</th>\n",
       "      <td>1</td>\n",
       "      <td>50</td>\n",
       "      <td>5.0</td>\n",
       "      <td>964982931</td>\n",
       "    </tr>\n",
       "  </tbody>\n",
       "</table>\n",
       "</div>"
      ],
      "text/plain": [
       "   userId  movieId  rating  timestamp\n",
       "0       1        1     4.0  964982703\n",
       "1       1        3     4.0  964981247\n",
       "2       1        6     4.0  964982224\n",
       "3       1       47     5.0  964983815\n",
       "4       1       50     5.0  964982931"
      ]
     },
     "execution_count": 42,
     "metadata": {},
     "output_type": "execute_result"
    }
   ],
   "source": [
    "# Importing ratings data\n",
    "ratings = pd.read_csv(\"D:/movie_recommendation/data/ratings.csv\")\n",
    "ratings.head()  # Checking the first few rows of ratings dataset"
   ]
  },
  {
   "cell_type": "code",
   "execution_count": 43,
   "metadata": {},
   "outputs": [
    {
     "data": {
      "text/html": [
       "<div>\n",
       "<style scoped>\n",
       "    .dataframe tbody tr th:only-of-type {\n",
       "        vertical-align: middle;\n",
       "    }\n",
       "\n",
       "    .dataframe tbody tr th {\n",
       "        vertical-align: top;\n",
       "    }\n",
       "\n",
       "    .dataframe thead th {\n",
       "        text-align: right;\n",
       "    }\n",
       "</style>\n",
       "<table border=\"1\" class=\"dataframe\">\n",
       "  <thead>\n",
       "    <tr style=\"text-align: right;\">\n",
       "      <th></th>\n",
       "      <th>movieId</th>\n",
       "      <th>title</th>\n",
       "      <th>genres</th>\n",
       "    </tr>\n",
       "  </thead>\n",
       "  <tbody>\n",
       "    <tr>\n",
       "      <th>0</th>\n",
       "      <td>1</td>\n",
       "      <td>Toy Story (1995)</td>\n",
       "      <td>Adventure|Animation|Children|Comedy|Fantasy</td>\n",
       "    </tr>\n",
       "    <tr>\n",
       "      <th>1</th>\n",
       "      <td>2</td>\n",
       "      <td>Jumanji (1995)</td>\n",
       "      <td>Adventure|Children|Fantasy</td>\n",
       "    </tr>\n",
       "    <tr>\n",
       "      <th>2</th>\n",
       "      <td>3</td>\n",
       "      <td>Grumpier Old Men (1995)</td>\n",
       "      <td>Comedy|Romance</td>\n",
       "    </tr>\n",
       "    <tr>\n",
       "      <th>3</th>\n",
       "      <td>4</td>\n",
       "      <td>Waiting to Exhale (1995)</td>\n",
       "      <td>Comedy|Drama|Romance</td>\n",
       "    </tr>\n",
       "    <tr>\n",
       "      <th>4</th>\n",
       "      <td>5</td>\n",
       "      <td>Father of the Bride Part II (1995)</td>\n",
       "      <td>Comedy</td>\n",
       "    </tr>\n",
       "  </tbody>\n",
       "</table>\n",
       "</div>"
      ],
      "text/plain": [
       "   movieId                               title  \\\n",
       "0        1                    Toy Story (1995)   \n",
       "1        2                      Jumanji (1995)   \n",
       "2        3             Grumpier Old Men (1995)   \n",
       "3        4            Waiting to Exhale (1995)   \n",
       "4        5  Father of the Bride Part II (1995)   \n",
       "\n",
       "                                        genres  \n",
       "0  Adventure|Animation|Children|Comedy|Fantasy  \n",
       "1                   Adventure|Children|Fantasy  \n",
       "2                               Comedy|Romance  \n",
       "3                         Comedy|Drama|Romance  \n",
       "4                                       Comedy  "
      ]
     },
     "execution_count": 43,
     "metadata": {},
     "output_type": "execute_result"
    }
   ],
   "source": [
    "movies = pd.read_csv(\"D:/movie_recommendation/data/movies_rc.csv\")\n",
    "movies.head()  # Checking the first few rows of movies dataset"
   ]
  },
  {
   "cell_type": "code",
   "execution_count": 44,
   "metadata": {},
   "outputs": [
    {
     "name": "stdout",
     "output_type": "stream",
     "text": [
      "<class 'pandas.core.frame.DataFrame'>\n",
      "RangeIndex: 100836 entries, 0 to 100835\n",
      "Data columns (total 4 columns):\n",
      " #   Column     Non-Null Count   Dtype  \n",
      "---  ------     --------------   -----  \n",
      " 0   userId     100836 non-null  int64  \n",
      " 1   movieId    100836 non-null  int64  \n",
      " 2   rating     100836 non-null  float64\n",
      " 3   timestamp  100836 non-null  int64  \n",
      "dtypes: float64(1), int64(3)\n",
      "memory usage: 3.1 MB\n"
     ]
    }
   ],
   "source": [
    "# Checking the structure and details of the ratings dataset\n",
    "ratings.info()"
   ]
  },
  {
   "cell_type": "code",
   "execution_count": 45,
   "metadata": {},
   "outputs": [
    {
     "name": "stdout",
     "output_type": "stream",
     "text": [
      "Number of Ratings: 100836\n",
      "Number of Unique MoviesIDs: 9724\n",
      "Number of Unique UserIDs: 610\n",
      "Average ratings per user: 165.3\n",
      "Average ratings per movie: 10.37\n"
     ]
    }
   ],
   "source": [
    "# Extracting the number of ratings, movies, and users\n",
    "n_ratings = len(ratings.rating)\n",
    "n_movies = len(ratings.movieId.unique())\n",
    "n_users = len(ratings.userId.unique())\n",
    "\n",
    "# Printing summary statistics on ratings, users, and movies\n",
    "print(f'Number of Ratings: {n_ratings}')\n",
    "print(f'Number of Unique MoviesIDs: {n_movies}')\n",
    "print(f'Number of Unique UserIDs: {n_users}')\n",
    "print(f'Average ratings per user: {round(n_ratings/n_users, 2)}')\n",
    "print(f'Average ratings per movie: {round(n_ratings/n_movies, 2)}')"
   ]
  },
  {
   "cell_type": "code",
   "execution_count": 46,
   "metadata": {},
   "outputs": [
    {
     "data": {
      "text/html": [
       "<div>\n",
       "<style scoped>\n",
       "    .dataframe tbody tr th:only-of-type {\n",
       "        vertical-align: middle;\n",
       "    }\n",
       "\n",
       "    .dataframe tbody tr th {\n",
       "        vertical-align: top;\n",
       "    }\n",
       "\n",
       "    .dataframe thead th {\n",
       "        text-align: right;\n",
       "    }\n",
       "</style>\n",
       "<table border=\"1\" class=\"dataframe\">\n",
       "  <thead>\n",
       "    <tr style=\"text-align: right;\">\n",
       "      <th></th>\n",
       "      <th>userId</th>\n",
       "      <th>n_ratings</th>\n",
       "    </tr>\n",
       "  </thead>\n",
       "  <tbody>\n",
       "    <tr>\n",
       "      <th>0</th>\n",
       "      <td>1</td>\n",
       "      <td>232</td>\n",
       "    </tr>\n",
       "    <tr>\n",
       "      <th>1</th>\n",
       "      <td>2</td>\n",
       "      <td>29</td>\n",
       "    </tr>\n",
       "    <tr>\n",
       "      <th>2</th>\n",
       "      <td>3</td>\n",
       "      <td>39</td>\n",
       "    </tr>\n",
       "    <tr>\n",
       "      <th>3</th>\n",
       "      <td>4</td>\n",
       "      <td>216</td>\n",
       "    </tr>\n",
       "    <tr>\n",
       "      <th>4</th>\n",
       "      <td>5</td>\n",
       "      <td>44</td>\n",
       "    </tr>\n",
       "  </tbody>\n",
       "</table>\n",
       "</div>"
      ],
      "text/plain": [
       "   userId  n_ratings\n",
       "0       1        232\n",
       "1       2         29\n",
       "2       3         39\n",
       "3       4        216\n",
       "4       5         44"
      ]
     },
     "execution_count": 46,
     "metadata": {},
     "output_type": "execute_result"
    }
   ],
   "source": [
    "# Calculating the frequency of ratings given by each user\n",
    "user_freq = ratings[['userId', 'movieId']].groupby('userId').count().reset_index()\n",
    "user_freq.columns = ['userId','n_ratings']\n",
    "user_freq.head()"
   ]
  },
  {
   "cell_type": "code",
   "execution_count": 47,
   "metadata": {},
   "outputs": [],
   "source": [
    "\n",
    "# Calculating the lowest and highest rated movies using mean\n",
    "mean_rating = ratings.groupby('movieId')[['rating']].mean()"
   ]
  },
  {
   "cell_type": "code",
   "execution_count": 48,
   "metadata": {},
   "outputs": [
    {
     "data": {
      "text/html": [
       "<div>\n",
       "<style scoped>\n",
       "    .dataframe tbody tr th:only-of-type {\n",
       "        vertical-align: middle;\n",
       "    }\n",
       "\n",
       "    .dataframe tbody tr th {\n",
       "        vertical-align: top;\n",
       "    }\n",
       "\n",
       "    .dataframe thead th {\n",
       "        text-align: right;\n",
       "    }\n",
       "</style>\n",
       "<table border=\"1\" class=\"dataframe\">\n",
       "  <thead>\n",
       "    <tr style=\"text-align: right;\">\n",
       "      <th></th>\n",
       "      <th>movieId</th>\n",
       "      <th>title</th>\n",
       "      <th>genres</th>\n",
       "    </tr>\n",
       "  </thead>\n",
       "  <tbody>\n",
       "    <tr>\n",
       "      <th>2689</th>\n",
       "      <td>3604</td>\n",
       "      <td>Gypsy (1962)</td>\n",
       "      <td>Musical</td>\n",
       "    </tr>\n",
       "  </tbody>\n",
       "</table>\n",
       "</div>"
      ],
      "text/plain": [
       "      movieId         title   genres\n",
       "2689     3604  Gypsy (1962)  Musical"
      ]
     },
     "execution_count": 48,
     "metadata": {},
     "output_type": "execute_result"
    }
   ],
   "source": [
    "\n",
    "# Finding the lowest rated movie\n",
    "lowest_rated = mean_rating['rating'].idxmin()\n",
    "movies.loc[movies['movieId'] == lowest_rated]\n"
   ]
  },
  {
   "cell_type": "code",
   "execution_count": 49,
   "metadata": {},
   "outputs": [
    {
     "data": {
      "text/html": [
       "<div>\n",
       "<style scoped>\n",
       "    .dataframe tbody tr th:only-of-type {\n",
       "        vertical-align: middle;\n",
       "    }\n",
       "\n",
       "    .dataframe tbody tr th {\n",
       "        vertical-align: top;\n",
       "    }\n",
       "\n",
       "    .dataframe thead th {\n",
       "        text-align: right;\n",
       "    }\n",
       "</style>\n",
       "<table border=\"1\" class=\"dataframe\">\n",
       "  <thead>\n",
       "    <tr style=\"text-align: right;\">\n",
       "      <th></th>\n",
       "      <th>movieId</th>\n",
       "      <th>title</th>\n",
       "      <th>genres</th>\n",
       "    </tr>\n",
       "  </thead>\n",
       "  <tbody>\n",
       "    <tr>\n",
       "      <th>48</th>\n",
       "      <td>53</td>\n",
       "      <td>Lamerica (1994)</td>\n",
       "      <td>Adventure|Drama</td>\n",
       "    </tr>\n",
       "  </tbody>\n",
       "</table>\n",
       "</div>"
      ],
      "text/plain": [
       "    movieId            title           genres\n",
       "48       53  Lamerica (1994)  Adventure|Drama"
      ]
     },
     "execution_count": 49,
     "metadata": {},
     "output_type": "execute_result"
    }
   ],
   "source": [
    "# Finding the highest rated movie\n",
    "highest_rated = mean_rating['rating'].idxmax()\n",
    "movies.loc[movies['movieId'] == highest_rated]"
   ]
  },
  {
   "cell_type": "code",
   "execution_count": 50,
   "metadata": {},
   "outputs": [
    {
     "name": "stdout",
     "output_type": "stream",
     "text": [
      "Number of people who rated the lowest rated movie: 1\n",
      "Number of people who rated the highest rated movie: 2\n"
     ]
    }
   ],
   "source": [
    "# Number of people that rated the lowest and highest rated movies\n",
    "print(f\"Number of people who rated the lowest rated movie: {ratings.movieId[ratings['movieId'] == lowest_rated].count()}\")\n",
    "print(f\"Number of people who rated the highest rated movie: {ratings.movieId[ratings['movieId'] == highest_rated].count()}\")"
   ]
  },
  {
   "cell_type": "code",
   "execution_count": 51,
   "metadata": {},
   "outputs": [],
   "source": [
    "# Creating the user-item matrix using scipy csr_matrix\n",
    "from scipy.sparse import csr_matrix\n",
    "def create_matrix(df):\n",
    "    \"\"\"\n",
    "    This function creates a sparse matrix for collaborative filtering.\n",
    "    It converts the ratings data into a user-item matrix, where rows represent users and columns represent movies.\n",
    "    \"\"\"\n",
    "    N = len(df['userId'].unique())  # Number of unique users\n",
    "    M = len(df['movieId'].unique())  # Number of unique movies\n",
    "    user_mapper = dict(zip(np.unique(df['userId']), list(range(N))))  # Mapping user IDs to matrix indices\n",
    "    movie_mapper = dict(zip(np.unique(df['movieId']), list(range(M))))  # Mapping movie IDs to matrix indices\n",
    "    user_inv_mapper = dict(zip(list(range(N)), np.unique(df['userId'])))  # Inverse mapping for user IDs\n",
    "    movie_inv_mapper = dict(zip(list(range(M)), np.unique(df['movieId'])))  # Inverse mapping for movie IDs\n",
    "    user_index = [user_mapper[i] for i in df['userId']]  # Mapping user IDs to matrix indices\n",
    "    movie_index = [movie_mapper[i] for i in df['movieId']]  # Mapping movie IDs to matrix indices\n",
    "    X = csr_matrix((df['rating'], (movie_index, user_index)), shape=(M, N))  # Creating the sparse matrix\n",
    "    return X, user_mapper, movie_mapper, user_inv_mapper, movie_inv_mapper\n",
    "\n",
    "X, user_mapper, movie_mapper, user_inv_mapper, movie_inv_mapper = create_matrix(ratings)\n"
   ]
  },
  {
   "cell_type": "code",
   "execution_count": 52,
   "metadata": {},
   "outputs": [],
   "source": [
    "# Finding similar movies using KNN\n",
    "from sklearn.neighbors import NearestNeighbors\n",
    "\n",
    "def find_similar_movies(movie_id, X, k, metric='cosine', show_distance=False):\n",
    "    \"\"\"\n",
    "    This function finds the k most similar movies to a given movie using KNN.\n",
    "    \"\"\"\n",
    "    neighbour_ids = []\n",
    "    movie_ind = movie_mapper[movie_id]  # Get movie index from the movie ID\n",
    "    movie_vec = X[movie_ind]  # Get the vector of ratings for the movie\n",
    "    k += 1  # Include the movie itself in the list of similar movies\n",
    "    knn = NearestNeighbors(n_neighbors=k, algorithm='brute', metric=metric)  # KNN model\n",
    "    knn.fit(X)  # Fit the model to the user-item matrix\n",
    "    movie_vec = movie_vec.reshape(1, -1)  # Reshaping to 2D array\n",
    "    neighbour = knn.kneighbors(movie_vec, return_distance=show_distance)  # Find nearest neighbors\n",
    "    for i in range(0, k):\n",
    "        n = neighbour.item(i)  # Get the movie index from the nearest neighbor\n",
    "        neighbour_ids.append(movie_inv_mapper[n])  # Add movie ID to the list\n",
    "    neighbour_ids.pop(0)  # Remove the movie itself from the list\n",
    "    return neighbour_ids\n"
   ]
  },
  {
   "cell_type": "code",
   "execution_count": 53,
   "metadata": {},
   "outputs": [],
   "source": [
    "# Create a dictionary to map movie IDs to movie titles\n",
    "movie_titles = dict(zip(movies.movieId, movies.title))\n",
    "movie_id = 3  # Example movie ID"
   ]
  },
  {
   "cell_type": "code",
   "execution_count": 54,
   "metadata": {},
   "outputs": [
    {
     "name": "stdout",
     "output_type": "stream",
     "text": [
      "Since you watched Grumpier Old Men (1995)\n",
      "Grumpy Old Men (1993)\n",
      "Striptease (1996)\n",
      "Nutty Professor, The (1996)\n",
      "Twister (1996)\n",
      "Father of the Bride Part II (1995)\n",
      "Broken Arrow (1996)\n",
      "Bio-Dome (1996)\n",
      "Truth About Cats & Dogs, The (1996)\n",
      "Sabrina (1995)\n",
      "Birdcage, The (1996)\n"
     ]
    }
   ],
   "source": [
    "\n",
    "# Get the 10 most similar movies to the given movie ID\n",
    "similar_ids = find_similar_movies(movie_id, X, k=10)\n",
    "movie_title = movie_titles[movie_id]\n",
    "print(f'Since you watched {movie_title}')\n",
    "for i in similar_ids:\n",
    "    print(movie_titles[i])"
   ]
  },
  {
   "cell_type": "code",
   "execution_count": 55,
   "metadata": {},
   "outputs": [],
   "source": [
    "# Function to recommend movies for a specific user based on their highest rated movie\n",
    "def recommend_movies_for_user(user_id, k=10):\n",
    "    \"\"\"\n",
    "    This function recommends k similar movies to a user based on their highest-rated movie.\n",
    "    \"\"\"\n",
    "    df1 = ratings[ratings.userId == user_id]  # Filter ratings for the user\n",
    "    if df1.empty:\n",
    "        print(f'User with ID {user_id} does not exist.')\n",
    "        return\n",
    "    \n",
    "    # Get the highest-rated movie by the user\n",
    "    movie_id = df1[df1.rating == max(df1.rating)].movieId.iloc[0]\n",
    "     \n",
    "    # Get the title of the user's highest-rated movie\n",
    "    movie_titles = dict(zip(movies['movieId'], movies['title']))\n",
    "    movie_title = movie_titles.get(movie_id, \"Movie not found\")\n",
    "    \n",
    "    if movie_title == \"Movie not found\":\n",
    "        print(f\"Movie with ID {movie_id} not found.\")\n",
    "        return\n",
    "    # Find similar movies\n",
    "    similar_ids = find_similar_movies(movie_id, X, k)\n",
    "    \n",
    "    # Print recommendations\n",
    "    print(f\"Since you watched {movie_title}, you might also like:\")\n",
    "    for i in similar_ids:\n",
    "        print(movie_titles.get(i, \"Movie not found\"))"
   ]
  },
  {
   "cell_type": "code",
   "execution_count": 56,
   "metadata": {},
   "outputs": [
    {
     "name": "stdout",
     "output_type": "stream",
     "text": [
      "Since you watched Twelve Monkeys (a.k.a. 12 Monkeys) (1995), you might also like:\n",
      "Pulp Fiction (1994)\n",
      "Terminator 2: Judgment Day (1991)\n",
      "Independence Day (a.k.a. ID4) (1996)\n",
      "Seven (a.k.a. Se7en) (1995)\n",
      "Fargo (1996)\n",
      "Fugitive, The (1993)\n",
      "Usual Suspects, The (1995)\n",
      "Jurassic Park (1993)\n",
      "Star Wars: Episode IV - A New Hope (1977)\n",
      "Heat (1995)\n"
     ]
    }
   ],
   "source": [
    "# Example usage of the recommendation function for user with ID 150\n",
    "user_id = 150\n",
    "recommend_movies_for_user(user_id, k=10)"
   ]
  },
  {
   "cell_type": "code",
   "execution_count": null,
   "metadata": {},
   "outputs": [],
   "source": []
  }
 ],
 "metadata": {
  "kernelspec": {
   "display_name": "base",
   "language": "python",
   "name": "python3"
  },
  "language_info": {
   "codemirror_mode": {
    "name": "ipython",
    "version": 3
   },
   "file_extension": ".py",
   "mimetype": "text/x-python",
   "name": "python",
   "nbconvert_exporter": "python",
   "pygments_lexer": "ipython3",
   "version": "3.12.3"
  }
 },
 "nbformat": 4,
 "nbformat_minor": 2
}
